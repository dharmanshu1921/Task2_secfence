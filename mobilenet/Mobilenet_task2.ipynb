{
  "cells": [
    {
      "cell_type": "code",
      "source": [
        "!pip install keras-tuner"
      ],
      "metadata": {
        "colab": {
          "base_uri": "https://localhost:8080/"
        },
        "id": "d48_H1EO6tbH",
        "outputId": "65033ee6-93d5-48d0-85c2-83e9565c3ba6"
      },
      "execution_count": 1,
      "outputs": [
        {
          "output_type": "stream",
          "name": "stdout",
          "text": [
            "Collecting keras-tuner\n",
            "  Downloading keras_tuner-1.4.7-py3-none-any.whl.metadata (5.4 kB)\n",
            "Requirement already satisfied: keras in /usr/local/lib/python3.11/dist-packages (from keras-tuner) (3.8.0)\n",
            "Requirement already satisfied: packaging in /usr/local/lib/python3.11/dist-packages (from keras-tuner) (24.2)\n",
            "Requirement already satisfied: requests in /usr/local/lib/python3.11/dist-packages (from keras-tuner) (2.32.3)\n",
            "Collecting kt-legacy (from keras-tuner)\n",
            "  Downloading kt_legacy-1.0.5-py3-none-any.whl.metadata (221 bytes)\n",
            "Requirement already satisfied: absl-py in /usr/local/lib/python3.11/dist-packages (from keras->keras-tuner) (1.4.0)\n",
            "Requirement already satisfied: numpy in /usr/local/lib/python3.11/dist-packages (from keras->keras-tuner) (1.26.4)\n",
            "Requirement already satisfied: rich in /usr/local/lib/python3.11/dist-packages (from keras->keras-tuner) (13.9.4)\n",
            "Requirement already satisfied: namex in /usr/local/lib/python3.11/dist-packages (from keras->keras-tuner) (0.0.8)\n",
            "Requirement already satisfied: h5py in /usr/local/lib/python3.11/dist-packages (from keras->keras-tuner) (3.12.1)\n",
            "Requirement already satisfied: optree in /usr/local/lib/python3.11/dist-packages (from keras->keras-tuner) (0.14.0)\n",
            "Requirement already satisfied: ml-dtypes in /usr/local/lib/python3.11/dist-packages (from keras->keras-tuner) (0.4.1)\n",
            "Requirement already satisfied: charset-normalizer<4,>=2 in /usr/local/lib/python3.11/dist-packages (from requests->keras-tuner) (3.4.1)\n",
            "Requirement already satisfied: idna<4,>=2.5 in /usr/local/lib/python3.11/dist-packages (from requests->keras-tuner) (3.10)\n",
            "Requirement already satisfied: urllib3<3,>=1.21.1 in /usr/local/lib/python3.11/dist-packages (from requests->keras-tuner) (2.3.0)\n",
            "Requirement already satisfied: certifi>=2017.4.17 in /usr/local/lib/python3.11/dist-packages (from requests->keras-tuner) (2024.12.14)\n",
            "Requirement already satisfied: typing-extensions>=4.5.0 in /usr/local/lib/python3.11/dist-packages (from optree->keras->keras-tuner) (4.12.2)\n",
            "Requirement already satisfied: markdown-it-py>=2.2.0 in /usr/local/lib/python3.11/dist-packages (from rich->keras->keras-tuner) (3.0.0)\n",
            "Requirement already satisfied: pygments<3.0.0,>=2.13.0 in /usr/local/lib/python3.11/dist-packages (from rich->keras->keras-tuner) (2.18.0)\n",
            "Requirement already satisfied: mdurl~=0.1 in /usr/local/lib/python3.11/dist-packages (from markdown-it-py>=2.2.0->rich->keras->keras-tuner) (0.1.2)\n",
            "Downloading keras_tuner-1.4.7-py3-none-any.whl (129 kB)\n",
            "\u001b[2K   \u001b[90m━━━━━━━━━━━━━━━━━━━━━━━━━━━━━━━━━━━━━━━━\u001b[0m \u001b[32m129.1/129.1 kB\u001b[0m \u001b[31m3.9 MB/s\u001b[0m eta \u001b[36m0:00:00\u001b[0m\n",
            "\u001b[?25hDownloading kt_legacy-1.0.5-py3-none-any.whl (9.6 kB)\n",
            "Installing collected packages: kt-legacy, keras-tuner\n",
            "Successfully installed keras-tuner-1.4.7 kt-legacy-1.0.5\n"
          ]
        }
      ]
    },
    {
      "cell_type": "code",
      "execution_count": 2,
      "metadata": {
        "id": "wp5TFT179_Pc"
      },
      "outputs": [],
      "source": [
        "\n",
        "import os\n",
        "import random\n",
        "import shutil\n",
        "import numpy as np\n",
        "from PIL import Image\n",
        "import tensorflow as tf\n",
        "from sklearn.utils.class_weight import compute_class_weight\n",
        "from sklearn.metrics import classification_report, roc_auc_score\n",
        "from tensorflow.keras.applications import ResNet50, MobileNet\n",
        "from tensorflow.keras.models import Sequential, load_model\n",
        "from tensorflow.keras.layers import GlobalAveragePooling2D, Dense, Dropout, BatchNormalization\n",
        "from tensorflow.keras.preprocessing.image import ImageDataGenerator\n",
        "from tensorflow.keras.callbacks import EarlyStopping, ReduceLROnPlateau\n",
        "from tensorflow.keras.optimizers import Adam\n",
        "from tensorflow.keras.regularizers import l2\n",
        "import keras_tuner as kt"
      ]
    },
    {
      "cell_type": "code",
      "execution_count": 3,
      "metadata": {
        "colab": {
          "base_uri": "https://localhost:8080/"
        },
        "id": "1syhXxBJzoAc",
        "outputId": "f02076cb-9a65-49f6-8f65-92e64f130353"
      },
      "outputs": [
        {
          "output_type": "stream",
          "name": "stdout",
          "text": [
            "Mounted at /content/drive\n"
          ]
        }
      ],
      "source": [
        "from google.colab import drive\n",
        "drive.mount('/content/drive')"
      ]
    },
    {
      "cell_type": "code",
      "execution_count": 4,
      "metadata": {
        "colab": {
          "base_uri": "https://localhost:8080/"
        },
        "id": "atWfmAHv-K7O",
        "outputId": "d774288b-72a4-4277-a351-a762fa9b179b"
      },
      "outputs": [
        {
          "output_type": "stream",
          "name": "stdout",
          "text": [
            "transaction-yes-no/Yes/❾❻⓿❼⓿❶❽❽❶❺  Wonder Loan Customer care helpline number_9607018815 - Copy.jpg:  mismatching \"local\" filename (transaction-yes-no/Yes/тЭ╛тЭ╗тУ┐тЭ╝тУ┐тЭ╢тЭ╜тЭ╜тЭ╢тЭ║  Wonder Loan Customer care helpline number_9607018815 - Copy.jpg),\n",
            "         continuing with \"central\" filename version\n",
            "transaction-yes-no/Yes/❾❻⓿❼⓿❶❽❽❶❺  Wonder Loan Customer care helpline number_9607018815.jpg:  mismatching \"local\" filename (transaction-yes-no/Yes/тЭ╛тЭ╗тУ┐тЭ╝тУ┐тЭ╢тЭ╜тЭ╜тЭ╢тЭ║  Wonder Loan Customer care helpline number_9607018815.jpg),\n",
            "         continuing with \"central\" filename version\n"
          ]
        }
      ],
      "source": [
        "!unzip -q /content/drive/MyDrive/transaction-yes-no.zip -d /content/"
      ]
    },
    {
      "cell_type": "code",
      "source": [
        "def initialize_tpu():\n",
        "    try:\n",
        "        tpu = tf.distribute.cluster_resolver.TPUClusterResolver()\n",
        "        tf.config.experimental_connect_to_cluster(tpu)\n",
        "        tf.tpu.experimental.initialize_tpu_system(tpu)\n",
        "        strategy = tf.distribute.TPUStrategy(tpu)\n",
        "        print(\"Running on TPU\")\n",
        "    except ValueError:\n",
        "        strategy = tf.distribute.get_strategy()\n",
        "        print(\"Running on GPU/CPU\")\n",
        "    return strategy\n",
        "\n",
        "strategy = initialize_tpu()"
      ],
      "metadata": {
        "colab": {
          "base_uri": "https://localhost:8080/"
        },
        "id": "blK0YMDzkOve",
        "outputId": "9cbf68f2-af70-45e2-d0c5-28202c271108"
      },
      "execution_count": 5,
      "outputs": [
        {
          "output_type": "stream",
          "name": "stdout",
          "text": [
            "Running on GPU/CPU\n"
          ]
        }
      ]
    },
    {
      "cell_type": "code",
      "execution_count": 6,
      "metadata": {
        "id": "1yR7FSyC-g4m"
      },
      "outputs": [],
      "source": [
        "DATASET_DIR = \"/content/transaction-yes-no/\"\n",
        "TRAIN_DIR = \"/content/transaction-yes-no/train/\"\n",
        "TEST_DIR = \"/content/transaction-yes-no/test/\""
      ]
    },
    {
      "cell_type": "code",
      "execution_count": 7,
      "metadata": {
        "id": "fiMwESZx02bW"
      },
      "outputs": [],
      "source": [
        "MODEL_SAVE_DIR = \"/content/saved_models\"\n",
        "os.makedirs(MODEL_SAVE_DIR, exist_ok=True)"
      ]
    },
    {
      "cell_type": "code",
      "execution_count": 8,
      "metadata": {
        "id": "OSIIXhjd-i5H"
      },
      "outputs": [],
      "source": [
        "for split_dir in [TRAIN_DIR, TEST_DIR]:\n",
        "    for class_name in ['Yes', 'No']:\n",
        "        os.makedirs(os.path.join(split_dir, class_name), exist_ok=True)"
      ]
    },
    {
      "cell_type": "code",
      "execution_count": 9,
      "metadata": {
        "id": "UXB-lu9D-o5u"
      },
      "outputs": [],
      "source": [
        "def count_images(directory):\n",
        "    return len([f for f in os.listdir(directory) if f.lower().endswith(('jpg', 'jpeg', 'png'))])"
      ]
    },
    {
      "cell_type": "code",
      "execution_count": 10,
      "metadata": {
        "id": "fknI0mIA-qvY"
      },
      "outputs": [],
      "source": [
        "def split_data(source_dir, train_dir, test_dir, train_ratio=0.8):\n",
        "    for class_name in ['Yes', 'No']:\n",
        "        class_path = os.path.join(source_dir, class_name)\n",
        "        images = os.listdir(class_path)\n",
        "        random.shuffle(images)\n",
        "\n",
        "        split_index = int(len(images) * train_ratio)\n",
        "        train_images = images[:split_index]\n",
        "        test_images = images[split_index:]\n",
        "\n",
        "        for img in train_images:\n",
        "            shutil.copy(os.path.join(class_path, img), os.path.join(train_dir, class_name, img))\n",
        "\n",
        "        for img in test_images:\n",
        "            shutil.copy(os.path.join(class_path, img), os.path.join(test_dir, class_name, img))\n",
        "\n",
        "split_data(DATASET_DIR, TRAIN_DIR, TEST_DIR, train_ratio=0.8)"
      ]
    },
    {
      "cell_type": "code",
      "execution_count": 11,
      "metadata": {
        "id": "prYdVYu3-tva"
      },
      "outputs": [],
      "source": [
        "def augment_class(class_dir, target_count):\n",
        "    datagen = ImageDataGenerator(\n",
        "        rotation_range=30,\n",
        "        width_shift_range=0.2,\n",
        "        height_shift_range=0.2,\n",
        "        shear_range=0.2,\n",
        "        zoom_range=0.2,\n",
        "        horizontal_flip=True,\n",
        "        brightness_range=[0.8, 1.2],\n",
        "        fill_mode='nearest'\n",
        "    )\n",
        "\n",
        "    images = [f for f in os.listdir(class_dir) if f.lower().endswith(('jpg', 'jpeg', 'png'))]\n",
        "    current_count = len(images)\n",
        "\n",
        "    while current_count < target_count:\n",
        "        img_name = random.choice(images)\n",
        "        img_path = os.path.join(class_dir, img_name)\n",
        "        img = Image.open(img_path).convert('RGB')\n",
        "        img_array = np.expand_dims(np.array(img) / 255.0, axis=0)\n",
        "\n",
        "        for batch in datagen.flow(img_array, batch_size=1, save_to_dir=class_dir, save_format='jpeg'):\n",
        "            current_count += 1\n",
        "            if current_count >= target_count:\n",
        "                break"
      ]
    },
    {
      "cell_type": "code",
      "execution_count": 12,
      "metadata": {
        "id": "tZeCKqcp-xrk"
      },
      "outputs": [],
      "source": [
        "def undersample_class(class_dir, target_count):\n",
        "    images = [f for f in os.listdir(class_dir) if f.lower().endswith(('jpg', 'jpeg', 'png'))]\n",
        "    random.shuffle(images)\n",
        "\n",
        "    for img_name in images[target_count:]:\n",
        "        img_path = os.path.join(class_dir, img_name)\n",
        "        os.remove(img_path)"
      ]
    },
    {
      "cell_type": "code",
      "execution_count": 13,
      "metadata": {
        "colab": {
          "base_uri": "https://localhost:8080/"
        },
        "id": "quIeC7gd-zqm",
        "outputId": "6dbfcb08-103c-4b3b-aa17-b87c93c1a3f6"
      },
      "outputs": [
        {
          "output_type": "stream",
          "name": "stdout",
          "text": [
            "Before balancing: Yes = 1121, No = 2836\n"
          ]
        }
      ],
      "source": [
        "train_yes_dir = os.path.join(TRAIN_DIR, 'Yes')\n",
        "train_no_dir = os.path.join(TRAIN_DIR, 'No')\n",
        "\n",
        "yes_count = count_images(train_yes_dir)\n",
        "no_count = count_images(train_no_dir)\n",
        "\n",
        "print(f\"Before balancing: Yes = {yes_count}, No = {no_count}\")"
      ]
    },
    {
      "cell_type": "code",
      "execution_count": 14,
      "metadata": {
        "id": "J0hhF5LW-1y5",
        "colab": {
          "base_uri": "https://localhost:8080/"
        },
        "outputId": "0add4835-1ee4-4c69-af43-0ad971925a9b"
      },
      "outputs": [
        {
          "output_type": "stream",
          "name": "stdout",
          "text": [
            "After balancing: Yes = 2718, No = 2836\n"
          ]
        }
      ],
      "source": [
        "target_count = max(yes_count, no_count)\n",
        "augment_class(train_yes_dir, target_count)\n",
        "undersample_class(train_no_dir, target_count)\n",
        "\n",
        "yes_count = count_images(train_yes_dir)\n",
        "no_count = count_images(train_no_dir)\n",
        "\n",
        "print(f\"After balancing: Yes = {yes_count}, No = {no_count}\")"
      ]
    },
    {
      "cell_type": "code",
      "execution_count": 15,
      "metadata": {
        "id": "J_QeR2s8-4ZY"
      },
      "outputs": [],
      "source": [
        "IMG_SIZE = (128, 128)\n",
        "BATCH_SIZE = 32\n",
        "\n",
        "train_datagen = ImageDataGenerator(rescale=1.0 / 255)\n",
        "test_datagen = ImageDataGenerator(rescale=1.0 / 255)"
      ]
    },
    {
      "cell_type": "code",
      "execution_count": 16,
      "metadata": {
        "id": "HIjUjU_S-6ta",
        "colab": {
          "base_uri": "https://localhost:8080/"
        },
        "outputId": "ba14f787-e020-467d-eded-4781965fa8fe"
      },
      "outputs": [
        {
          "output_type": "stream",
          "name": "stdout",
          "text": [
            "Found 5554 images belonging to 2 classes.\n",
            "Found 991 images belonging to 2 classes.\n"
          ]
        }
      ],
      "source": [
        "train_generator = train_datagen.flow_from_directory(\n",
        "    TRAIN_DIR,\n",
        "    target_size=IMG_SIZE,\n",
        "    batch_size=BATCH_SIZE,\n",
        "    class_mode='binary'\n",
        ")\n",
        "\n",
        "test_generator = test_datagen.flow_from_directory(\n",
        "    TEST_DIR,\n",
        "    target_size=IMG_SIZE,\n",
        "    batch_size=BATCH_SIZE,\n",
        "    class_mode='binary'\n",
        ")"
      ]
    },
    {
      "cell_type": "code",
      "execution_count": 17,
      "metadata": {
        "id": "XQAmw7pJ-9Ld"
      },
      "outputs": [],
      "source": [
        "class_weights = compute_class_weight(\n",
        "    class_weight='balanced',\n",
        "    classes=np.unique(train_generator.classes),\n",
        "    y=train_generator.classes\n",
        ")\n",
        "class_weights = dict(enumerate(class_weights))"
      ]
    },
    {
      "cell_type": "code",
      "execution_count": 48,
      "metadata": {
        "id": "ATLW0Aqo_Bty",
        "colab": {
          "base_uri": "https://localhost:8080/",
          "height": 397
        },
        "outputId": "42edc505-4a04-4769-f198-b61a341f2b11"
      },
      "outputs": [
        {
          "output_type": "display_data",
          "data": {
            "text/plain": [
              "\u001b[1mModel: \"sequential_1\"\u001b[0m\n"
            ],
            "text/html": [
              "<pre style=\"white-space:pre;overflow-x:auto;line-height:normal;font-family:Menlo,'DejaVu Sans Mono',consolas,'Courier New',monospace\"><span style=\"font-weight: bold\">Model: \"sequential_1\"</span>\n",
              "</pre>\n"
            ]
          },
          "metadata": {}
        },
        {
          "output_type": "display_data",
          "data": {
            "text/plain": [
              "┏━━━━━━━━━━━━━━━━━━━━━━━━━━━━━━━━━━━━━━┳━━━━━━━━━━━━━━━━━━━━━━━━━━━━━┳━━━━━━━━━━━━━━━━━┓\n",
              "┃\u001b[1m \u001b[0m\u001b[1mLayer (type)                        \u001b[0m\u001b[1m \u001b[0m┃\u001b[1m \u001b[0m\u001b[1mOutput Shape               \u001b[0m\u001b[1m \u001b[0m┃\u001b[1m \u001b[0m\u001b[1m        Param #\u001b[0m\u001b[1m \u001b[0m┃\n",
              "┡━━━━━━━━━━━━━━━━━━━━━━━━━━━━━━━━━━━━━━╇━━━━━━━━━━━━━━━━━━━━━━━━━━━━━╇━━━━━━━━━━━━━━━━━┩\n",
              "│ mobilenet_1.00_128 (\u001b[38;5;33mFunctional\u001b[0m)      │ (\u001b[38;5;45mNone\u001b[0m, \u001b[38;5;34m4\u001b[0m, \u001b[38;5;34m4\u001b[0m, \u001b[38;5;34m1024\u001b[0m)          │       \u001b[38;5;34m3,228,864\u001b[0m │\n",
              "├──────────────────────────────────────┼─────────────────────────────┼─────────────────┤\n",
              "│ global_average_pooling2d_1           │ (\u001b[38;5;45mNone\u001b[0m, \u001b[38;5;34m1024\u001b[0m)                │               \u001b[38;5;34m0\u001b[0m │\n",
              "│ (\u001b[38;5;33mGlobalAveragePooling2D\u001b[0m)             │                             │                 │\n",
              "├──────────────────────────────────────┼─────────────────────────────┼─────────────────┤\n",
              "│ dropout_2 (\u001b[38;5;33mDropout\u001b[0m)                  │ (\u001b[38;5;45mNone\u001b[0m, \u001b[38;5;34m1024\u001b[0m)                │               \u001b[38;5;34m0\u001b[0m │\n",
              "├──────────────────────────────────────┼─────────────────────────────┼─────────────────┤\n",
              "│ dense_2 (\u001b[38;5;33mDense\u001b[0m)                      │ (\u001b[38;5;45mNone\u001b[0m, \u001b[38;5;34m128\u001b[0m)                 │         \u001b[38;5;34m131,200\u001b[0m │\n",
              "├──────────────────────────────────────┼─────────────────────────────┼─────────────────┤\n",
              "│ batch_normalization_1                │ (\u001b[38;5;45mNone\u001b[0m, \u001b[38;5;34m128\u001b[0m)                 │             \u001b[38;5;34m512\u001b[0m │\n",
              "│ (\u001b[38;5;33mBatchNormalization\u001b[0m)                 │                             │                 │\n",
              "├──────────────────────────────────────┼─────────────────────────────┼─────────────────┤\n",
              "│ dropout_3 (\u001b[38;5;33mDropout\u001b[0m)                  │ (\u001b[38;5;45mNone\u001b[0m, \u001b[38;5;34m128\u001b[0m)                 │               \u001b[38;5;34m0\u001b[0m │\n",
              "├──────────────────────────────────────┼─────────────────────────────┼─────────────────┤\n",
              "│ dense_3 (\u001b[38;5;33mDense\u001b[0m)                      │ (\u001b[38;5;45mNone\u001b[0m, \u001b[38;5;34m1\u001b[0m)                   │             \u001b[38;5;34m129\u001b[0m │\n",
              "└──────────────────────────────────────┴─────────────────────────────┴─────────────────┘\n"
            ],
            "text/html": [
              "<pre style=\"white-space:pre;overflow-x:auto;line-height:normal;font-family:Menlo,'DejaVu Sans Mono',consolas,'Courier New',monospace\">┏━━━━━━━━━━━━━━━━━━━━━━━━━━━━━━━━━━━━━━┳━━━━━━━━━━━━━━━━━━━━━━━━━━━━━┳━━━━━━━━━━━━━━━━━┓\n",
              "┃<span style=\"font-weight: bold\"> Layer (type)                         </span>┃<span style=\"font-weight: bold\"> Output Shape                </span>┃<span style=\"font-weight: bold\">         Param # </span>┃\n",
              "┡━━━━━━━━━━━━━━━━━━━━━━━━━━━━━━━━━━━━━━╇━━━━━━━━━━━━━━━━━━━━━━━━━━━━━╇━━━━━━━━━━━━━━━━━┩\n",
              "│ mobilenet_1.00_128 (<span style=\"color: #0087ff; text-decoration-color: #0087ff\">Functional</span>)      │ (<span style=\"color: #00d7ff; text-decoration-color: #00d7ff\">None</span>, <span style=\"color: #00af00; text-decoration-color: #00af00\">4</span>, <span style=\"color: #00af00; text-decoration-color: #00af00\">4</span>, <span style=\"color: #00af00; text-decoration-color: #00af00\">1024</span>)          │       <span style=\"color: #00af00; text-decoration-color: #00af00\">3,228,864</span> │\n",
              "├──────────────────────────────────────┼─────────────────────────────┼─────────────────┤\n",
              "│ global_average_pooling2d_1           │ (<span style=\"color: #00d7ff; text-decoration-color: #00d7ff\">None</span>, <span style=\"color: #00af00; text-decoration-color: #00af00\">1024</span>)                │               <span style=\"color: #00af00; text-decoration-color: #00af00\">0</span> │\n",
              "│ (<span style=\"color: #0087ff; text-decoration-color: #0087ff\">GlobalAveragePooling2D</span>)             │                             │                 │\n",
              "├──────────────────────────────────────┼─────────────────────────────┼─────────────────┤\n",
              "│ dropout_2 (<span style=\"color: #0087ff; text-decoration-color: #0087ff\">Dropout</span>)                  │ (<span style=\"color: #00d7ff; text-decoration-color: #00d7ff\">None</span>, <span style=\"color: #00af00; text-decoration-color: #00af00\">1024</span>)                │               <span style=\"color: #00af00; text-decoration-color: #00af00\">0</span> │\n",
              "├──────────────────────────────────────┼─────────────────────────────┼─────────────────┤\n",
              "│ dense_2 (<span style=\"color: #0087ff; text-decoration-color: #0087ff\">Dense</span>)                      │ (<span style=\"color: #00d7ff; text-decoration-color: #00d7ff\">None</span>, <span style=\"color: #00af00; text-decoration-color: #00af00\">128</span>)                 │         <span style=\"color: #00af00; text-decoration-color: #00af00\">131,200</span> │\n",
              "├──────────────────────────────────────┼─────────────────────────────┼─────────────────┤\n",
              "│ batch_normalization_1                │ (<span style=\"color: #00d7ff; text-decoration-color: #00d7ff\">None</span>, <span style=\"color: #00af00; text-decoration-color: #00af00\">128</span>)                 │             <span style=\"color: #00af00; text-decoration-color: #00af00\">512</span> │\n",
              "│ (<span style=\"color: #0087ff; text-decoration-color: #0087ff\">BatchNormalization</span>)                 │                             │                 │\n",
              "├──────────────────────────────────────┼─────────────────────────────┼─────────────────┤\n",
              "│ dropout_3 (<span style=\"color: #0087ff; text-decoration-color: #0087ff\">Dropout</span>)                  │ (<span style=\"color: #00d7ff; text-decoration-color: #00d7ff\">None</span>, <span style=\"color: #00af00; text-decoration-color: #00af00\">128</span>)                 │               <span style=\"color: #00af00; text-decoration-color: #00af00\">0</span> │\n",
              "├──────────────────────────────────────┼─────────────────────────────┼─────────────────┤\n",
              "│ dense_3 (<span style=\"color: #0087ff; text-decoration-color: #0087ff\">Dense</span>)                      │ (<span style=\"color: #00d7ff; text-decoration-color: #00d7ff\">None</span>, <span style=\"color: #00af00; text-decoration-color: #00af00\">1</span>)                   │             <span style=\"color: #00af00; text-decoration-color: #00af00\">129</span> │\n",
              "└──────────────────────────────────────┴─────────────────────────────┴─────────────────┘\n",
              "</pre>\n"
            ]
          },
          "metadata": {}
        },
        {
          "output_type": "display_data",
          "data": {
            "text/plain": [
              "\u001b[1m Total params: \u001b[0m\u001b[38;5;34m3,360,705\u001b[0m (12.82 MB)\n"
            ],
            "text/html": [
              "<pre style=\"white-space:pre;overflow-x:auto;line-height:normal;font-family:Menlo,'DejaVu Sans Mono',consolas,'Courier New',monospace\"><span style=\"font-weight: bold\"> Total params: </span><span style=\"color: #00af00; text-decoration-color: #00af00\">3,360,705</span> (12.82 MB)\n",
              "</pre>\n"
            ]
          },
          "metadata": {}
        },
        {
          "output_type": "display_data",
          "data": {
            "text/plain": [
              "\u001b[1m Trainable params: \u001b[0m\u001b[38;5;34m131,585\u001b[0m (514.00 KB)\n"
            ],
            "text/html": [
              "<pre style=\"white-space:pre;overflow-x:auto;line-height:normal;font-family:Menlo,'DejaVu Sans Mono',consolas,'Courier New',monospace\"><span style=\"font-weight: bold\"> Trainable params: </span><span style=\"color: #00af00; text-decoration-color: #00af00\">131,585</span> (514.00 KB)\n",
              "</pre>\n"
            ]
          },
          "metadata": {}
        },
        {
          "output_type": "display_data",
          "data": {
            "text/plain": [
              "\u001b[1m Non-trainable params: \u001b[0m\u001b[38;5;34m3,229,120\u001b[0m (12.32 MB)\n"
            ],
            "text/html": [
              "<pre style=\"white-space:pre;overflow-x:auto;line-height:normal;font-family:Menlo,'DejaVu Sans Mono',consolas,'Courier New',monospace\"><span style=\"font-weight: bold\"> Non-trainable params: </span><span style=\"color: #00af00; text-decoration-color: #00af00\">3,229,120</span> (12.32 MB)\n",
              "</pre>\n"
            ]
          },
          "metadata": {}
        }
      ],
      "source": [
        "strategy = tf.distribute.get_strategy()\n",
        "with strategy.scope():\n",
        "    base_model_mobilenet = MobileNet(include_top=False, input_shape=(IMG_SIZE[0], IMG_SIZE[1], 3), weights='imagenet')\n",
        "    base_model_mobilenet.trainable = False  # Freeze the pretrained layers initially\n",
        "\n",
        "    model_mobilenet = Sequential([\n",
        "        base_model_mobilenet,\n",
        "        GlobalAveragePooling2D(),\n",
        "        Dropout(0.5),  # Increased dropout to reduce overfitting\n",
        "        Dense(128, activation='relu', kernel_regularizer=l2(0.001)),\n",
        "        BatchNormalization(),\n",
        "        Dropout(0.4),  # Increased dropout\n",
        "        Dense(1, activation='sigmoid')])\n",
        "\n",
        "    model_mobilenet.compile(\n",
        "        optimizer=Adam(learning_rate=1e-4),\n",
        "        loss='binary_crossentropy',\n",
        "        metrics=['accuracy']\n",
        "    )\n",
        "\n",
        "model_mobilenet.summary()"
      ]
    },
    {
      "cell_type": "code",
      "execution_count": 49,
      "metadata": {
        "id": "XDAsuYNU_ESW"
      },
      "outputs": [],
      "source": [
        "early_stopping = EarlyStopping(monitor='val_loss', patience=3, restore_best_weights=True)\n",
        "reduce_lr = ReduceLROnPlateau(monitor='val_loss', factor=0.5, patience=3, min_lr=1e-6)\n",
        "\n",
        "EPOCHS = 40"
      ]
    },
    {
      "cell_type": "code",
      "execution_count": 50,
      "metadata": {
        "id": "UF3jXglu0-OH",
        "colab": {
          "base_uri": "https://localhost:8080/"
        },
        "outputId": "46b383e4-bba2-4a70-dcc3-ab6bf210640c"
      },
      "outputs": [
        {
          "output_type": "stream",
          "name": "stdout",
          "text": [
            "Epoch 1/40\n",
            "\u001b[1m174/174\u001b[0m \u001b[32m━━━━━━━━━━━━━━━━━━━━\u001b[0m\u001b[37m\u001b[0m \u001b[1m43s\u001b[0m 209ms/step - accuracy: 0.6785 - loss: 0.8858 - val_accuracy: 0.8063 - val_loss: 0.6161 - learning_rate: 1.0000e-04\n",
            "Epoch 2/40\n",
            "\u001b[1m174/174\u001b[0m \u001b[32m━━━━━━━━━━━━━━━━━━━━\u001b[0m\u001b[37m\u001b[0m \u001b[1m31s\u001b[0m 177ms/step - accuracy: 0.8416 - loss: 0.5693 - val_accuracy: 0.8476 - val_loss: 0.5433 - learning_rate: 1.0000e-04\n",
            "Epoch 3/40\n",
            "\u001b[1m174/174\u001b[0m \u001b[32m━━━━━━━━━━━━━━━━━━━━\u001b[0m\u001b[37m\u001b[0m \u001b[1m30s\u001b[0m 172ms/step - accuracy: 0.8631 - loss: 0.5224 - val_accuracy: 0.8729 - val_loss: 0.5107 - learning_rate: 1.0000e-04\n",
            "Epoch 4/40\n",
            "\u001b[1m174/174\u001b[0m \u001b[32m━━━━━━━━━━━━━━━━━━━━\u001b[0m\u001b[37m\u001b[0m \u001b[1m30s\u001b[0m 170ms/step - accuracy: 0.8895 - loss: 0.4739 - val_accuracy: 0.8718 - val_loss: 0.4871 - learning_rate: 1.0000e-04\n",
            "Epoch 5/40\n",
            "\u001b[1m174/174\u001b[0m \u001b[32m━━━━━━━━━━━━━━━━━━━━\u001b[0m\u001b[37m\u001b[0m \u001b[1m30s\u001b[0m 174ms/step - accuracy: 0.8825 - loss: 0.4738 - val_accuracy: 0.8799 - val_loss: 0.4693 - learning_rate: 1.0000e-04\n",
            "Epoch 6/40\n",
            "\u001b[1m174/174\u001b[0m \u001b[32m━━━━━━━━━━━━━━━━━━━━\u001b[0m\u001b[37m\u001b[0m \u001b[1m41s\u001b[0m 177ms/step - accuracy: 0.8930 - loss: 0.4509 - val_accuracy: 0.8920 - val_loss: 0.4512 - learning_rate: 1.0000e-04\n",
            "Epoch 7/40\n",
            "\u001b[1m174/174\u001b[0m \u001b[32m━━━━━━━━━━━━━━━━━━━━\u001b[0m\u001b[37m\u001b[0m \u001b[1m46s\u001b[0m 204ms/step - accuracy: 0.9016 - loss: 0.4249 - val_accuracy: 0.8870 - val_loss: 0.4375 - learning_rate: 1.0000e-04\n",
            "Epoch 8/40\n",
            "\u001b[1m174/174\u001b[0m \u001b[32m━━━━━━━━━━━━━━━━━━━━\u001b[0m\u001b[37m\u001b[0m \u001b[1m30s\u001b[0m 169ms/step - accuracy: 0.9040 - loss: 0.4157 - val_accuracy: 0.8991 - val_loss: 0.4276 - learning_rate: 1.0000e-04\n",
            "Epoch 9/40\n",
            "\u001b[1m174/174\u001b[0m \u001b[32m━━━━━━━━━━━━━━━━━━━━\u001b[0m\u001b[37m\u001b[0m \u001b[1m30s\u001b[0m 171ms/step - accuracy: 0.9015 - loss: 0.4201 - val_accuracy: 0.9021 - val_loss: 0.4135 - learning_rate: 1.0000e-04\n",
            "Epoch 10/40\n",
            "\u001b[1m174/174\u001b[0m \u001b[32m━━━━━━━━━━━━━━━━━━━━\u001b[0m\u001b[37m\u001b[0m \u001b[1m30s\u001b[0m 171ms/step - accuracy: 0.9123 - loss: 0.3964 - val_accuracy: 0.9072 - val_loss: 0.4050 - learning_rate: 1.0000e-04\n",
            "Epoch 11/40\n",
            "\u001b[1m174/174\u001b[0m \u001b[32m━━━━━━━━━━━━━━━━━━━━\u001b[0m\u001b[37m\u001b[0m \u001b[1m40s\u001b[0m 168ms/step - accuracy: 0.9091 - loss: 0.4054 - val_accuracy: 0.9062 - val_loss: 0.3966 - learning_rate: 1.0000e-04\n",
            "Epoch 12/40\n",
            "\u001b[1m174/174\u001b[0m \u001b[32m━━━━━━━━━━━━━━━━━━━━\u001b[0m\u001b[37m\u001b[0m \u001b[1m31s\u001b[0m 178ms/step - accuracy: 0.9169 - loss: 0.3736 - val_accuracy: 0.9051 - val_loss: 0.3895 - learning_rate: 1.0000e-04\n",
            "Epoch 13/40\n",
            "\u001b[1m174/174\u001b[0m \u001b[32m━━━━━━━━━━━━━━━━━━━━\u001b[0m\u001b[37m\u001b[0m \u001b[1m40s\u001b[0m 173ms/step - accuracy: 0.9211 - loss: 0.3558 - val_accuracy: 0.9092 - val_loss: 0.3809 - learning_rate: 1.0000e-04\n",
            "Epoch 14/40\n",
            "\u001b[1m174/174\u001b[0m \u001b[32m━━━━━━━━━━━━━━━━━━━━\u001b[0m\u001b[37m\u001b[0m \u001b[1m31s\u001b[0m 176ms/step - accuracy: 0.9183 - loss: 0.3617 - val_accuracy: 0.9102 - val_loss: 0.3753 - learning_rate: 1.0000e-04\n",
            "Epoch 15/40\n",
            "\u001b[1m174/174\u001b[0m \u001b[32m━━━━━━━━━━━━━━━━━━━━\u001b[0m\u001b[37m\u001b[0m \u001b[1m29s\u001b[0m 169ms/step - accuracy: 0.9281 - loss: 0.3420 - val_accuracy: 0.9142 - val_loss: 0.3660 - learning_rate: 1.0000e-04\n",
            "Epoch 16/40\n",
            "\u001b[1m174/174\u001b[0m \u001b[32m━━━━━━━━━━━━━━━━━━━━\u001b[0m\u001b[37m\u001b[0m \u001b[1m30s\u001b[0m 171ms/step - accuracy: 0.9263 - loss: 0.3324 - val_accuracy: 0.9142 - val_loss: 0.3584 - learning_rate: 1.0000e-04\n",
            "Epoch 17/40\n",
            "\u001b[1m174/174\u001b[0m \u001b[32m━━━━━━━━━━━━━━━━━━━━\u001b[0m\u001b[37m\u001b[0m \u001b[1m30s\u001b[0m 173ms/step - accuracy: 0.9287 - loss: 0.3307 - val_accuracy: 0.9173 - val_loss: 0.3508 - learning_rate: 1.0000e-04\n",
            "Epoch 18/40\n",
            "\u001b[1m174/174\u001b[0m \u001b[32m━━━━━━━━━━━━━━━━━━━━\u001b[0m\u001b[37m\u001b[0m \u001b[1m31s\u001b[0m 176ms/step - accuracy: 0.9258 - loss: 0.3376 - val_accuracy: 0.9162 - val_loss: 0.3459 - learning_rate: 1.0000e-04\n",
            "Epoch 19/40\n",
            "\u001b[1m174/174\u001b[0m \u001b[32m━━━━━━━━━━━━━━━━━━━━\u001b[0m\u001b[37m\u001b[0m \u001b[1m30s\u001b[0m 172ms/step - accuracy: 0.9266 - loss: 0.3209 - val_accuracy: 0.9183 - val_loss: 0.3432 - learning_rate: 1.0000e-04\n",
            "Epoch 20/40\n",
            "\u001b[1m174/174\u001b[0m \u001b[32m━━━━━━━━━━━━━━━━━━━━\u001b[0m\u001b[37m\u001b[0m \u001b[1m30s\u001b[0m 173ms/step - accuracy: 0.9248 - loss: 0.3140 - val_accuracy: 0.9193 - val_loss: 0.3361 - learning_rate: 1.0000e-04\n",
            "Epoch 21/40\n",
            "\u001b[1m174/174\u001b[0m \u001b[32m━━━━━━━━━━━━━━━━━━━━\u001b[0m\u001b[37m\u001b[0m \u001b[1m30s\u001b[0m 172ms/step - accuracy: 0.9269 - loss: 0.3201 - val_accuracy: 0.9173 - val_loss: 0.3339 - learning_rate: 1.0000e-04\n",
            "Epoch 22/40\n",
            "\u001b[1m174/174\u001b[0m \u001b[32m━━━━━━━━━━━━━━━━━━━━\u001b[0m\u001b[37m\u001b[0m \u001b[1m30s\u001b[0m 170ms/step - accuracy: 0.9312 - loss: 0.3075 - val_accuracy: 0.9193 - val_loss: 0.3267 - learning_rate: 1.0000e-04\n",
            "Epoch 23/40\n",
            "\u001b[1m174/174\u001b[0m \u001b[32m━━━━━━━━━━━━━━━━━━━━\u001b[0m\u001b[37m\u001b[0m \u001b[1m30s\u001b[0m 170ms/step - accuracy: 0.9341 - loss: 0.3080 - val_accuracy: 0.9173 - val_loss: 0.3250 - learning_rate: 1.0000e-04\n",
            "Epoch 24/40\n",
            "\u001b[1m174/174\u001b[0m \u001b[32m━━━━━━━━━━━━━━━━━━━━\u001b[0m\u001b[37m\u001b[0m \u001b[1m31s\u001b[0m 177ms/step - accuracy: 0.9291 - loss: 0.3015 - val_accuracy: 0.9223 - val_loss: 0.3218 - learning_rate: 1.0000e-04\n",
            "Epoch 25/40\n",
            "\u001b[1m174/174\u001b[0m \u001b[32m━━━━━━━━━━━━━━━━━━━━\u001b[0m\u001b[37m\u001b[0m \u001b[1m30s\u001b[0m 174ms/step - accuracy: 0.9310 - loss: 0.2956 - val_accuracy: 0.9193 - val_loss: 0.3208 - learning_rate: 1.0000e-04\n",
            "Epoch 26/40\n",
            "\u001b[1m174/174\u001b[0m \u001b[32m━━━━━━━━━━━━━━━━━━━━\u001b[0m\u001b[37m\u001b[0m \u001b[1m29s\u001b[0m 168ms/step - accuracy: 0.9304 - loss: 0.2886 - val_accuracy: 0.9203 - val_loss: 0.3139 - learning_rate: 1.0000e-04\n",
            "Epoch 27/40\n",
            "\u001b[1m174/174\u001b[0m \u001b[32m━━━━━━━━━━━━━━━━━━━━\u001b[0m\u001b[37m\u001b[0m \u001b[1m30s\u001b[0m 173ms/step - accuracy: 0.9319 - loss: 0.2818 - val_accuracy: 0.9233 - val_loss: 0.3106 - learning_rate: 1.0000e-04\n",
            "Epoch 28/40\n",
            "\u001b[1m174/174\u001b[0m \u001b[32m━━━━━━━━━━━━━━━━━━━━\u001b[0m\u001b[37m\u001b[0m \u001b[1m30s\u001b[0m 174ms/step - accuracy: 0.9304 - loss: 0.2885 - val_accuracy: 0.9173 - val_loss: 0.3064 - learning_rate: 1.0000e-04\n",
            "Epoch 29/40\n",
            "\u001b[1m174/174\u001b[0m \u001b[32m━━━━━━━━━━━━━━━━━━━━\u001b[0m\u001b[37m\u001b[0m \u001b[1m30s\u001b[0m 171ms/step - accuracy: 0.9288 - loss: 0.2848 - val_accuracy: 0.9183 - val_loss: 0.3052 - learning_rate: 1.0000e-04\n",
            "Epoch 30/40\n",
            "\u001b[1m174/174\u001b[0m \u001b[32m━━━━━━━━━━━━━━━━━━━━\u001b[0m\u001b[37m\u001b[0m \u001b[1m29s\u001b[0m 169ms/step - accuracy: 0.9269 - loss: 0.2869 - val_accuracy: 0.9213 - val_loss: 0.3006 - learning_rate: 1.0000e-04\n",
            "Epoch 31/40\n",
            "\u001b[1m174/174\u001b[0m \u001b[32m━━━━━━━━━━━━━━━━━━━━\u001b[0m\u001b[37m\u001b[0m \u001b[1m30s\u001b[0m 173ms/step - accuracy: 0.9332 - loss: 0.2783 - val_accuracy: 0.9193 - val_loss: 0.2977 - learning_rate: 1.0000e-04\n",
            "Epoch 32/40\n",
            "\u001b[1m174/174\u001b[0m \u001b[32m━━━━━━━━━━━━━━━━━━━━\u001b[0m\u001b[37m\u001b[0m \u001b[1m30s\u001b[0m 171ms/step - accuracy: 0.9395 - loss: 0.2612 - val_accuracy: 0.9203 - val_loss: 0.2981 - learning_rate: 1.0000e-04\n",
            "Epoch 33/40\n",
            "\u001b[1m174/174\u001b[0m \u001b[32m━━━━━━━━━━━━━━━━━━━━\u001b[0m\u001b[37m\u001b[0m \u001b[1m30s\u001b[0m 171ms/step - accuracy: 0.9350 - loss: 0.2726 - val_accuracy: 0.9253 - val_loss: 0.2881 - learning_rate: 1.0000e-04\n",
            "Epoch 34/40\n",
            "\u001b[1m174/174\u001b[0m \u001b[32m━━━━━━━━━━━━━━━━━━━━\u001b[0m\u001b[37m\u001b[0m \u001b[1m30s\u001b[0m 174ms/step - accuracy: 0.9362 - loss: 0.2629 - val_accuracy: 0.9223 - val_loss: 0.2853 - learning_rate: 1.0000e-04\n",
            "Epoch 35/40\n",
            "\u001b[1m174/174\u001b[0m \u001b[32m━━━━━━━━━━━━━━━━━━━━\u001b[0m\u001b[37m\u001b[0m \u001b[1m31s\u001b[0m 176ms/step - accuracy: 0.9369 - loss: 0.2582 - val_accuracy: 0.9243 - val_loss: 0.2840 - learning_rate: 1.0000e-04\n",
            "Epoch 36/40\n",
            "\u001b[1m174/174\u001b[0m \u001b[32m━━━━━━━━━━━━━━━━━━━━\u001b[0m\u001b[37m\u001b[0m \u001b[1m30s\u001b[0m 172ms/step - accuracy: 0.9424 - loss: 0.2438 - val_accuracy: 0.9263 - val_loss: 0.2793 - learning_rate: 1.0000e-04\n",
            "Epoch 37/40\n",
            "\u001b[1m174/174\u001b[0m \u001b[32m━━━━━━━━━━━━━━━━━━━━\u001b[0m\u001b[37m\u001b[0m \u001b[1m41s\u001b[0m 172ms/step - accuracy: 0.9317 - loss: 0.2707 - val_accuracy: 0.9243 - val_loss: 0.2767 - learning_rate: 1.0000e-04\n",
            "Epoch 38/40\n",
            "\u001b[1m174/174\u001b[0m \u001b[32m━━━━━━━━━━━━━━━━━━━━\u001b[0m\u001b[37m\u001b[0m \u001b[1m29s\u001b[0m 169ms/step - accuracy: 0.9356 - loss: 0.2439 - val_accuracy: 0.9213 - val_loss: 0.2787 - learning_rate: 1.0000e-04\n",
            "Epoch 39/40\n",
            "\u001b[1m174/174\u001b[0m \u001b[32m━━━━━━━━━━━━━━━━━━━━\u001b[0m\u001b[37m\u001b[0m \u001b[1m30s\u001b[0m 170ms/step - accuracy: 0.9388 - loss: 0.2423 - val_accuracy: 0.9243 - val_loss: 0.2739 - learning_rate: 1.0000e-04\n",
            "Epoch 40/40\n",
            "\u001b[1m174/174\u001b[0m \u001b[32m━━━━━━━━━━━━━━━━━━━━\u001b[0m\u001b[37m\u001b[0m \u001b[1m29s\u001b[0m 169ms/step - accuracy: 0.9325 - loss: 0.2573 - val_accuracy: 0.9273 - val_loss: 0.2711 - learning_rate: 1.0000e-04\n"
          ]
        },
        {
          "output_type": "stream",
          "name": "stderr",
          "text": [
            "WARNING:absl:You are saving your model as an HDF5 file via `model.save()` or `keras.saving.save_model(model)`. This file format is considered legacy. We recommend using instead the native Keras format, e.g. `model.save('my_model.keras')` or `keras.saving.save_model(model, 'my_model.keras')`. \n"
          ]
        },
        {
          "output_type": "stream",
          "name": "stdout",
          "text": [
            "mobilenet50 model saved at /content/saved_models/mobilenet_model.h5\n"
          ]
        }
      ],
      "source": [
        "history_mobilenet = model_mobilenet.fit(\n",
        "    train_generator,\n",
        "    epochs=EPOCHS,\n",
        "    validation_data=test_generator,\n",
        "    callbacks=[early_stopping, reduce_lr],\n",
        "    class_weight=class_weights\n",
        ")\n",
        "\n",
        "mobilenet_model_path = os.path.join(MODEL_SAVE_DIR, 'mobilenet_model.h5')\n",
        "model_mobilenet.save(mobilenet_model_path)\n",
        "print(f\"mobilenet50 model saved at {mobilenet_model_path}\")"
      ]
    },
    {
      "cell_type": "code",
      "execution_count": 51,
      "metadata": {
        "id": "g9kO3HI2_GcC",
        "colab": {
          "base_uri": "https://localhost:8080/"
        },
        "outputId": "a211987f-4175-4dd1-bbcf-34ab33aee7cf"
      },
      "outputs": [
        {
          "output_type": "stream",
          "name": "stdout",
          "text": [
            "\u001b[1m31/31\u001b[0m \u001b[32m━━━━━━━━━━━━━━━━━━━━\u001b[0m\u001b[37m\u001b[0m \u001b[1m8s\u001b[0m 189ms/step\n",
            "mobilenet Test Accuracy: 0.5681\n",
            "\n",
            "mobilenet Classification Report:\n",
            "               precision    recall  f1-score   support\n",
            "\n",
            "           0       0.70      0.69      0.70       710\n",
            "           1       0.24      0.25      0.25       281\n",
            "\n",
            "    accuracy                           0.57       991\n",
            "   macro avg       0.47      0.47      0.47       991\n",
            "weighted avg       0.57      0.57      0.57       991\n",
            "\n",
            "mobilenet ROC-AUC Score: 0.4990\n"
          ]
        }
      ],
      "source": [
        "from sklearn.metrics import accuracy_score\n",
        "\n",
        "y_pred_prob_mobilenet = model_mobilenet.predict(test_generator)\n",
        "\n",
        "y_pred_mobilenet = (y_pred_prob_mobilenet > 0.5).astype('int32')\n",
        "\n",
        "test_accuracy = accuracy_score(test_generator.classes, y_pred_mobilenet)\n",
        "print(f\"mobilenet Test Accuracy: {test_accuracy:.4f}\")\n",
        "\n",
        "print(\"\\nmobilenet Classification Report:\\n\", classification_report(test_generator.classes, y_pred_mobilenet))\n",
        "\n",
        "roc_auc_mobilenet = roc_auc_score(test_generator.classes, y_pred_prob_mobilenet)\n",
        "print(f\"mobilenet ROC-AUC Score: {roc_auc_mobilenet:.4f}\")"
      ]
    },
    {
      "cell_type": "code",
      "source": [
        "import matplotlib.pyplot as plt\n",
        "\n",
        "acc = history_mobilenet.history['accuracy']\n",
        "val_acc = history_mobilenet.history['val_accuracy']\n",
        "loss = history_mobilenet.history['loss']\n",
        "val_loss = history_mobilenet.history['val_loss']\n",
        "\n",
        "epochs_range = range(1, len(acc) + 1)\n",
        "\n",
        "plt.figure(figsize=(12, 5))\n",
        "plt.subplot(1, 2, 1)\n",
        "plt.plot(epochs_range, acc, label='Training Accuracy', marker='o')\n",
        "plt.plot(epochs_range, val_acc, label='Validation Accuracy', marker='o')\n",
        "plt.xlabel('Epochs')\n",
        "plt.ylabel('Accuracy')\n",
        "plt.title('Training and Validation Accuracy')\n",
        "plt.legend()\n",
        "plt.grid()\n",
        "\n",
        "plt.subplot(1, 2, 2)\n",
        "plt.plot(epochs_range, loss, label='Training Loss', marker='o', color='red')\n",
        "plt.plot(epochs_range, val_loss, label='Validation Loss', marker='o', color='purple')\n",
        "plt.xlabel('Epochs')\n",
        "plt.ylabel('Loss')\n",
        "plt.title('Training and Validation Loss')\n",
        "plt.legend()\n",
        "plt.grid()\n",
        "\n",
        "plt.show()\n"
      ],
      "metadata": {
        "colab": {
          "base_uri": "https://localhost:8080/",
          "height": 507
        },
        "id": "udgoiLtkpKz1",
        "outputId": "5d71eaa6-200f-41a3-97e1-9e2dcb4495b4"
      },
      "execution_count": 52,
      "outputs": [
        {
          "output_type": "display_data",
          "data": {
            "text/plain": [
              "<Figure size 1200x500 with 2 Axes>"
            ],
            "image/png": "[encoded data removed]"
          },
          "metadata": {}
        }
      ]
    },
    {
      "cell_type": "code",
      "source": [
        "!pip install keras-tuner"
      ],
      "metadata": {
        "colab": {
          "base_uri": "https://localhost:8080/"
        },
        "id": "VFVU4L9Irmak",
        "outputId": "9a857242-b4bd-4882-efe9-2baad50f2efa"
      },
      "execution_count": 53,
      "outputs": [
        {
          "output_type": "stream",
          "name": "stdout",
          "text": [
            "Requirement already satisfied: keras-tuner in /usr/local/lib/python3.11/dist-packages (1.4.7)\n",
            "Requirement already satisfied: keras in /usr/local/lib/python3.11/dist-packages (from keras-tuner) (3.8.0)\n",
            "Requirement already satisfied: packaging in /usr/local/lib/python3.11/dist-packages (from keras-tuner) (24.2)\n",
            "Requirement already satisfied: requests in /usr/local/lib/python3.11/dist-packages (from keras-tuner) (2.32.3)\n",
            "Requirement already satisfied: kt-legacy in /usr/local/lib/python3.11/dist-packages (from keras-tuner) (1.0.5)\n",
            "Requirement already satisfied: absl-py in /usr/local/lib/python3.11/dist-packages (from keras->keras-tuner) (1.4.0)\n",
            "Requirement already satisfied: numpy in /usr/local/lib/python3.11/dist-packages (from keras->keras-tuner) (1.26.4)\n",
            "Requirement already satisfied: rich in /usr/local/lib/python3.11/dist-packages (from keras->keras-tuner) (13.9.4)\n",
            "Requirement already satisfied: namex in /usr/local/lib/python3.11/dist-packages (from keras->keras-tuner) (0.0.8)\n",
            "Requirement already satisfied: h5py in /usr/local/lib/python3.11/dist-packages (from keras->keras-tuner) (3.12.1)\n",
            "Requirement already satisfied: optree in /usr/local/lib/python3.11/dist-packages (from keras->keras-tuner) (0.14.0)\n",
            "Requirement already satisfied: ml-dtypes in /usr/local/lib/python3.11/dist-packages (from keras->keras-tuner) (0.4.1)\n",
            "Requirement already satisfied: charset-normalizer<4,>=2 in /usr/local/lib/python3.11/dist-packages (from requests->keras-tuner) (3.4.1)\n",
            "Requirement already satisfied: idna<4,>=2.5 in /usr/local/lib/python3.11/dist-packages (from requests->keras-tuner) (3.10)\n",
            "Requirement already satisfied: urllib3<3,>=1.21.1 in /usr/local/lib/python3.11/dist-packages (from requests->keras-tuner) (2.3.0)\n",
            "Requirement already satisfied: certifi>=2017.4.17 in /usr/local/lib/python3.11/dist-packages (from requests->keras-tuner) (2024.12.14)\n",
            "Requirement already satisfied: typing-extensions>=4.5.0 in /usr/local/lib/python3.11/dist-packages (from optree->keras->keras-tuner) (4.12.2)\n",
            "Requirement already satisfied: markdown-it-py>=2.2.0 in /usr/local/lib/python3.11/dist-packages (from rich->keras->keras-tuner) (3.0.0)\n",
            "Requirement already satisfied: pygments<3.0.0,>=2.13.0 in /usr/local/lib/python3.11/dist-packages (from rich->keras->keras-tuner) (2.18.0)\n",
            "Requirement already satisfied: mdurl~=0.1 in /usr/local/lib/python3.11/dist-packages (from markdown-it-py>=2.2.0->rich->keras->keras-tuner) (0.1.2)\n"
          ]
        }
      ]
    },
    {
      "cell_type": "code",
      "source": [
        "model_path = '/content/saved_models/mobilenet_model.h5'\n",
        "model = load_model(model_path)\n",
        "\n",
        "def build_model(hp):\n",
        "    model = load_model(model_path)\n",
        "    model.trainable = True\n",
        "    dropout_rate = hp.Float('dropout_rate', min_value=0.2, max_value=0.5, step=0.05)\n",
        "    learning_rate = hp.Float('learning_rate', min_value=1e-5, max_value=1e-2, sampling='log')\n",
        "\n",
        "    for layer in model.layers:\n",
        "        if isinstance(layer, tf.keras.layers.Dropout):\n",
        "            layer.rate = dropout_rate\n",
        "\n",
        "    model.compile(\n",
        "        optimizer=Adam(learning_rate=learning_rate),\n",
        "        loss='binary_crossentropy',\n",
        "        metrics=['accuracy']\n",
        "    )\n",
        "    return model"
      ],
      "metadata": {
        "colab": {
          "base_uri": "https://localhost:8080/"
        },
        "id": "Ujb4p49pros7",
        "outputId": "9cf19b89-4a6e-4219-b71c-5a7a4f444d5a"
      },
      "execution_count": 54,
      "outputs": [
        {
          "output_type": "stream",
          "name": "stderr",
          "text": [
            "WARNING:absl:Compiled the loaded model, but the compiled metrics have yet to be built. `model.compile_metrics` will be empty until you train or evaluate the model.\n"
          ]
        }
      ]
    },
    {
      "cell_type": "code",
      "source": [
        "tuner = kt.RandomSearch(\n",
        "    build_model,\n",
        "    objective='val_accuracy',\n",
        "    max_trials=15,\n",
        "    directory='hyperparameter_tuning',\n",
        "    project_name='transaction_classification'\n",
        ")\n",
        "\n",
        "early_stopping = EarlyStopping(monitor='val_loss', patience=3)\n",
        "\n",
        "tuner.search(\n",
        "    train_generator,\n",
        "    validation_data=test_generator,\n",
        "    epochs=10,\n",
        "    callbacks=[early_stopping]\n",
        ")\n",
        "\n"
      ],
      "metadata": {
        "colab": {
          "base_uri": "https://localhost:8080/"
        },
        "id": "AjRne_Ohrtnn",
        "outputId": "bf2f0fbd-95c8-4a79-bb82-a88316817397"
      },
      "execution_count": 58,
      "outputs": [
        {
          "output_type": "stream",
          "name": "stdout",
          "text": [
            "Trial 15 Complete [00h 05m 59s]\n",
            "val_accuracy: 0.931382417678833\n",
            "\n",
            "Best val_accuracy So Far: 0.940464198589325\n",
            "Total elapsed time: 02h 01m 10s\n"
          ]
        }
      ]
    },
    {
      "cell_type": "code",
      "source": [
        "best_model = tuner.get_best_models(num_models=1)[0]\n",
        "best_hp = tuner.get_best_hyperparameters(num_trials=1)[0]"
      ],
      "metadata": {
        "colab": {
          "base_uri": "https://localhost:8080/"
        },
        "id": "dAYRpqEshDC2",
        "outputId": "413b2d9b-5212-4ccc-a763-e8cb47512839"
      },
      "execution_count": 59,
      "outputs": [
        {
          "output_type": "stream",
          "name": "stderr",
          "text": [
            "WARNING:absl:Compiled the loaded model, but the compiled metrics have yet to be built. `model.compile_metrics` will be empty until you train or evaluate the model.\n",
            "/usr/local/lib/python3.11/dist-packages/keras/src/saving/saving_lib.py:757: UserWarning: Skipping variable loading for optimizer 'adam', because it has 2 variables whereas the saved optimizer has 14 variables. \n",
            "  saveable.load_own_variables(weights_store.get(inner_path))\n"
          ]
        }
      ]
    },
    {
      "cell_type": "code",
      "source": [
        "print(f\"Best Hyperparameters: {best_hp.values}\")\n",
        "\n",
        "test_accuracy = best_model.evaluate(test_generator)\n",
        "print(f\"Best Model Test Accuracy: {test_accuracy[1]:.4f}\")"
      ],
      "metadata": {
        "id": "djtv6C9Brw2M",
        "colab": {
          "base_uri": "https://localhost:8080/"
        },
        "outputId": "29c0f415-0a34-47ad-d999-1e2daae76876"
      },
      "execution_count": 60,
      "outputs": [
        {
          "output_type": "stream",
          "name": "stdout",
          "text": [
            "Best Hyperparameters: {'dropout_rate': 0.25, 'learning_rate': 0.0001038192596156804}\n",
            "\u001b[1m31/31\u001b[0m \u001b[32m━━━━━━━━━━━━━━━━━━━━\u001b[0m\u001b[37m\u001b[0m \u001b[1m11s\u001b[0m 211ms/step - accuracy: 0.9443 - loss: 0.2358\n",
            "Best Model Test Accuracy: 0.9405\n"
          ]
        }
      ]
    },
    {
      "cell_type": "code",
      "source": [
        "best_model.save('/content/best_mobilenet_model.h5')"
      ],
      "metadata": {
        "id": "EC_-iSbbvNpW",
        "colab": {
          "base_uri": "https://localhost:8080/"
        },
        "outputId": "f82d3647-adce-4761-c9ef-3a5522ff6494"
      },
      "execution_count": 61,
      "outputs": [
        {
          "output_type": "stream",
          "name": "stderr",
          "text": [
            "WARNING:absl:You are saving your model as an HDF5 file via `model.save()` or `keras.saving.save_model(model)`. This file format is considered legacy. We recommend using instead the native Keras format, e.g. `model.save('my_model.keras')` or `keras.saving.save_model(model, 'my_model.keras')`. \n"
          ]
        }
      ]
    },
    {
      "cell_type": "code",
      "source": [
        "!pip install tf2onnx"
      ],
      "metadata": {
        "colab": {
          "base_uri": "https://localhost:8080/",
          "height": 638
        },
        "id": "_DPrmD4pqS8D",
        "outputId": "ec8a3951-e579-4212-e03b-7047e876c4e3"
      },
      "execution_count": 63,
      "outputs": [
        {
          "output_type": "stream",
          "name": "stdout",
          "text": [
            "Collecting tf2onnx\n",
            "  Downloading tf2onnx-1.16.1-py3-none-any.whl.metadata (1.3 kB)\n",
            "Requirement already satisfied: numpy>=1.14.1 in /usr/local/lib/python3.11/dist-packages (from tf2onnx) (1.26.4)\n",
            "Collecting onnx>=1.4.1 (from tf2onnx)\n",
            "  Downloading onnx-1.17.0-cp311-cp311-manylinux_2_17_x86_64.manylinux2014_x86_64.whl.metadata (16 kB)\n",
            "Requirement already satisfied: requests in /usr/local/lib/python3.11/dist-packages (from tf2onnx) (2.32.3)\n",
            "Requirement already satisfied: six in /usr/local/lib/python3.11/dist-packages (from tf2onnx) (1.17.0)\n",
            "Requirement already satisfied: flatbuffers>=1.12 in /usr/local/lib/python3.11/dist-packages (from tf2onnx) (25.1.24)\n",
            "Collecting protobuf~=3.20 (from tf2onnx)\n",
            "  Downloading protobuf-3.20.3-py2.py3-none-any.whl.metadata (720 bytes)\n",
            "Requirement already satisfied: charset-normalizer<4,>=2 in /usr/local/lib/python3.11/dist-packages (from requests->tf2onnx) (3.4.1)\n",
            "Requirement already satisfied: idna<4,>=2.5 in /usr/local/lib/python3.11/dist-packages (from requests->tf2onnx) (3.10)\n",
            "Requirement already satisfied: urllib3<3,>=1.21.1 in /usr/local/lib/python3.11/dist-packages (from requests->tf2onnx) (2.3.0)\n",
            "Requirement already satisfied: certifi>=2017.4.17 in /usr/local/lib/python3.11/dist-packages (from requests->tf2onnx) (2024.12.14)\n",
            "Downloading tf2onnx-1.16.1-py3-none-any.whl (455 kB)\n",
            "\u001b[2K   \u001b[90m━━━━━━━━━━━━━━━━━━━━━━━━━━━━━━━━━━━━━━━━\u001b[0m \u001b[32m455.8/455.8 kB\u001b[0m \u001b[31m28.3 MB/s\u001b[0m eta \u001b[36m0:00:00\u001b[0m\n",
            "\u001b[?25hDownloading onnx-1.17.0-cp311-cp311-manylinux_2_17_x86_64.manylinux2014_x86_64.whl (16.0 MB)\n",
            "\u001b[2K   \u001b[90m━━━━━━━━━━━━━━━━━━━━━━━━━━━━━━━━━━━━━━━━\u001b[0m \u001b[32m16.0/16.0 MB\u001b[0m \u001b[31m47.9 MB/s\u001b[0m eta \u001b[36m0:00:00\u001b[0m\n",
            "\u001b[?25hDownloading protobuf-3.20.3-py2.py3-none-any.whl (162 kB)\n",
            "\u001b[2K   \u001b[90m━━━━━━━━━━━━━━━━━━━━━━━━━━━━━━━━━━━━━━━━\u001b[0m \u001b[32m162.1/162.1 kB\u001b[0m \u001b[31m17.6 MB/s\u001b[0m eta \u001b[36m0:00:00\u001b[0m\n",
            "\u001b[?25hInstalling collected packages: protobuf, onnx, tf2onnx\n",
            "  Attempting uninstall: protobuf\n",
            "    Found existing installation: protobuf 4.25.6\n",
            "    Uninstalling protobuf-4.25.6:\n",
            "      Successfully uninstalled protobuf-4.25.6\n",
            "\u001b[31mERROR: pip's dependency resolver does not currently take into account all the packages that are installed. This behaviour is the source of the following dependency conflicts.\n",
            "grpcio-status 1.62.3 requires protobuf>=4.21.6, but you have protobuf 3.20.3 which is incompatible.\n",
            "tensorflow-metadata 1.16.1 requires protobuf<6.0.0dev,>=4.25.2; python_version >= \"3.11\", but you have protobuf 3.20.3 which is incompatible.\u001b[0m\u001b[31m\n",
            "\u001b[0mSuccessfully installed onnx-1.17.0 protobuf-3.20.3 tf2onnx-1.16.1\n"
          ]
        },
        {
          "output_type": "display_data",
          "data": {
            "application/vnd.colab-display-data+json": {
              "pip_warning": {
                "packages": [
                  "google"
                ]
              },
              "id": "b31ac750ec0b46fc9e63be70cdd556b2"
            }
          },
          "metadata": {}
        }
      ]
    },
    {
      "cell_type": "code",
      "source": [
        "import tensorflow as tf\n",
        "import keras\n",
        "\n",
        "model = keras.models.load_model(\"/content/best_mobilenet_model.h5\")\n",
        "\n",
        "tf.saved_model.save(model, \"mn_model\")\n",
        "\n",
        "!python3 -m tf2onnx.convert --saved-model mn_model --output best_hp_mobilenet_model.onnx"
      ],
      "metadata": {
        "id": "gS2xvZfZvSqk",
        "colab": {
          "base_uri": "https://localhost:8080/"
        },
        "outputId": "ca5f92f5-cbac-444f-895d-0eca2062bac3"
      },
      "execution_count": 64,
      "outputs": [
        {
          "output_type": "stream",
          "name": "stderr",
          "text": [
            "WARNING:absl:Compiled the loaded model, but the compiled metrics have yet to be built. `model.compile_metrics` will be empty until you train or evaluate the model.\n"
          ]
        },
        {
          "output_type": "stream",
          "name": "stdout",
          "text": [
            "2025-01-31 18:11:21.984473: E external/local_xla/xla/stream_executor/cuda/cuda_fft.cc:477] Unable to register cuFFT factory: Attempting to register factory for plugin cuFFT when one has already been registered\n",
            "WARNING: All log messages before absl::InitializeLog() is called are written to STDERR\n",
            "E0000 00:00:1738347082.019234   42634 cuda_dnn.cc:8310] Unable to register cuDNN factory: Attempting to register factory for plugin cuDNN when one has already been registered\n",
            "E0000 00:00:1738347082.030022   42634 cuda_blas.cc:1418] Unable to register cuBLAS factory: Attempting to register factory for plugin cuBLAS when one has already been registered\n",
            "<frozen runpy>:128: RuntimeWarning: 'tf2onnx.convert' found in sys.modules after import of package 'tf2onnx', but prior to execution of 'tf2onnx.convert'; this may result in unpredictable behaviour\n",
            "2025-01-31 18:11:35,145 - WARNING - ***IMPORTANT*** Installed protobuf is not cpp accelerated. Conversion will be extremely slow. See https://github.com/onnx/tensorflow-onnx/issues/1557\n",
            "2025-01-31 18:11:35.776299: W tensorflow/core/common_runtime/gpu/gpu_bfc_allocator.cc:47] Overriding orig_value setting because the TF_FORCE_GPU_ALLOW_GROWTH environment variable is set. Original config value was 0.\n",
            "I0000 00:00:1738347095.776533   42634 gpu_device.cc:2022] Created device /job:localhost/replica:0/task:0/device:GPU:0 with 9698 MB memory:  -> device: 0, name: Tesla T4, pci bus id: 0000:00:04.0, compute capability: 7.5\n",
            "2025-01-31 18:11:35,788 - WARNING - '--tag' not specified for saved_model. Using --tag serve\n",
            "2025-01-31 18:11:40,424 - INFO - Signatures found in model: [serving_default].\n",
            "2025-01-31 18:11:40,425 - WARNING - '--signature_def' not specified, using first signature: serving_default\n",
            "2025-01-31 18:11:40,425 - INFO - Output names: ['output_0']\n",
            "I0000 00:00:1738347100.811002   42634 devices.cc:67] Number of eligible GPUs (core count >= 8, compute capability >= 0.0): 1\n",
            "WARNING: All log messages before absl::InitializeLog() is called are written to STDERR\n",
            "I0000 00:00:1738347100.811268   42634 single_machine.cc:361] Starting new session\n",
            "I0000 00:00:1738347100.812688   42634 gpu_device.cc:2022] Created device /job:localhost/replica:0/task:0/device:GPU:0 with 9698 MB memory:  -> device: 0, name: Tesla T4, pci bus id: 0000:00:04.0, compute capability: 7.5\n",
            "I0000 00:00:1738347105.850784   42634 gpu_device.cc:2022] Created device /job:localhost/replica:0/task:0/device:GPU:0 with 9698 MB memory:  -> device: 0, name: Tesla T4, pci bus id: 0000:00:04.0, compute capability: 7.5\n",
            "I0000 00:00:1738347107.862978   42634 devices.cc:67] Number of eligible GPUs (core count >= 8, compute capability >= 0.0): 1\n",
            "I0000 00:00:1738347107.863162   42634 single_machine.cc:361] Starting new session\n",
            "I0000 00:00:1738347107.869383   42634 gpu_device.cc:2022] Created device /job:localhost/replica:0/task:0/device:GPU:0 with 9698 MB memory:  -> device: 0, name: Tesla T4, pci bus id: 0000:00:04.0, compute capability: 7.5\n",
            "2025-01-31 18:11:48,328 - INFO - Using tensorflow=2.18.0, onnx=1.17.0, tf2onnx=1.16.1/15c810\n",
            "2025-01-31 18:11:48,328 - INFO - Using opset <onnx, 15>\n",
            "2025-01-31 18:11:48,543 - INFO - Computed 0 values for constant folding\n",
            "2025-01-31 18:11:48,966 - INFO - Optimizing ONNX model\n",
            "2025-01-31 18:11:50,857 - INFO - After optimization: Add -14 (30->16), Const -72 (149->77), GlobalAveragePool +1 (0->1), Identity -2 (2->0), ReduceMean -1 (1->0), Reshape -13 (13->0), Squeeze +1 (0->1), Transpose -66 (67->1)\n",
            "2025-01-31 18:11:50,908 - INFO - \n",
            "2025-01-31 18:11:50,908 - INFO - Successfully converted TensorFlow model mn_model to ONNX\n",
            "2025-01-31 18:11:50,909 - INFO - Model inputs: ['inputs']\n",
            "2025-01-31 18:11:50,909 - INFO - Model outputs: ['output_0']\n",
            "2025-01-31 18:11:50,909 - INFO - ONNX model is saved at best_hp_mobilenet_model.onnx\n"
          ]
        }
      ]
    },
    {
      "cell_type": "code",
      "source": [],
      "metadata": {
        "id": "AD7_4q91veDo"
      },
      "execution_count": null,
      "outputs": []
    },
    {
      "cell_type": "code",
      "source": [],
      "metadata": {
        "id": "EQOD3NkPrTBv"
      },
      "execution_count": null,
      "outputs": []
    }
  ],
  "metadata": {
    "accelerator": "GPU",
    "colab": {
      "gpuType": "T4",
      "provenance": []
    },
    "kernelspec": {
      "display_name": "Python 3",
      "name": "python3"
    },
    "language_info": {
      "name": "python"
    }
  },
  "nbformat": 4,
  "nbformat_minor": 0
}